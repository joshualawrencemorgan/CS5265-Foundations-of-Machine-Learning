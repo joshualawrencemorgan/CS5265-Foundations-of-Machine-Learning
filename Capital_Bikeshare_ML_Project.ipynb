{
  "nbformat": 4,
  "nbformat_minor": 0,
  "metadata": {
    "colab": {
      "provenance": [],
      "authorship_tag": "ABX9TyMaosT+igyXOINzTv0gzPl2",
      "include_colab_link": true
    },
    "kernelspec": {
      "name": "python3",
      "display_name": "Python 3"
    },
    "language_info": {
      "name": "python"
    }
  },
  "cells": [
    {
      "cell_type": "markdown",
      "metadata": {
        "id": "view-in-github",
        "colab_type": "text"
      },
      "source": [
        "<a href=\"https://colab.research.google.com/github/joshualawrencemorgan/CS5265-Foundations-of-Machine-Learning/blob/add_data/Capital_Bikeshare_ML_Project.ipynb\" target=\"_parent\"><img src=\"https://colab.research.google.com/assets/colab-badge.svg\" alt=\"Open In Colab\"/></a>"
      ]
    },
    {
      "cell_type": "markdown",
      "source": [
        "# Capital Bikeshare Membership Prediction and Rider Preference\n",
        "\n",
        "## Background\n",
        "Bikeshare programs in large cities offer a cost-effective and environmentally friendly mode of transportation for citizens and tourists. The bike docks that are integral to these programs can collect several data points about each ride. Research has been conducted by the [Department of Transportation](https://data.bts.gov/stories/s/Summary-of-Docked-Bikeshare-Trips-by-System-and-Ot/7fgy-2zkf/) on the total usage of bikeshare programs and the membership numbers of the program, but extensive research into the differences between casual and member riders has not been conducted. I want to use the data provided by the bikeshare program in Washington, D.C., Capital Bikeshare, to build a model that can predict, based on the characteristics of a ride, whether that ride was made by a member (a rider with an annual subscription) or a non-member.\n",
        "\n",
        "## Project Description\n",
        "This project seeks to learn more about the behaviors of bikeshare users by creating a membership prediction model for Capital Bikeshare (CaBi). The analysis is conducted on user trip data from [July 2023 rides](https://s3.amazonaws.com/capitalbikeshare-data/index.html) provided by Capital Bikeshare. I anticipate that the results of the model will highlight key differences in ridership behaviors such as time of ride, bike type, and duration of ride that could help CaBi better serve its customers and maximize profitability.\n",
        "\n",
        "## Performance Metrics\n",
        "\n",
        "Accuracy - Can the model correctly predict whether a ride was taken by a member or a casual rider? This will involve training against a dataset and comparing the model's determination against the data from Capital Bikeshare. Results will be recorded into a confusion matrix and classification accuracy will calculated using the function below.\n",
        "\n",
        "| Actual | Predicted |\n",
        "|---|---|\n",
        "| Positive | True Positive (TP) | False Positive (FP) |\n",
        "| Negative | False Negative (FN) | True Negative (TN) |\n",
        "\n",
        "$\n",
        "Accuracy =\\frac{TruePositive+TrueNegative}{𝑇rue𝑃ositive+𝐹alse𝑃ositive+𝐹alse𝑁egative+𝑇rue𝑁egative}\n",
        "$\n",
        "\n",
        "Characteristics - Which characteristics of a ride are more important for members? Using the model, is it possible to identify attributes of a ride that are more common among members? Knowledge of these attributes could help CaBi change its pricing model to provide the best service for its customers while also maximizing revenue."
      ],
      "metadata": {
        "id": "yfCO4H0EKYXQ"
      }
    },
    {
      "cell_type": "markdown",
      "source": [
        "## Feature Engineering\n",
        "\n",
        "The data provided by Capital Bikeshare requires a serious amount of cleaning and feature engineering to provide a more holistic understanding of the ride data. Here I propose 3 features to be engineered.\n",
        "\n",
        "### Duration Feature\n",
        "Using pandas to format the current features 'started_at' and 'ended_at' in to a datetime will allow for the creation of a duration feature that will provide the more context to each ride.\n",
        "```python\n",
        "df['started_at'] = pd.to_datetime(df['started_at'])\n",
        "df['ended_at'] = pd.to_datetime(df['ended_at'])\n",
        "df['duration'] = (df['ended_at'] - df['started_at']).dt.total_seconds()\n",
        "```\n",
        "\n",
        "### Day of the week Feature\n",
        "Extrapolating what day of the week the ride was on will help our machine learning process identify patterns across multiple weeks. 'day_of_week' is stored as an enum with sunday being 0 and saturday being 6.\n",
        "```python3\n",
        "df['day_of_week'] = df['started_at'].dt.dayofweek\n",
        "```\n",
        "\n",
        "### Distance Feature\n",
        "Determining the actual path that bikes took would require extremely expensive GPS tracker to be installed and maintained in each bike. This feature seeks to provide a suitable alternative by calculating the geographical distance between where the bike was checked out and where the bike started. This will provide even more context to each ride and help provide more insight into the behaviour of riders.\n",
        "\n",
        "```python3\n",
        "df['distance'] = df.apply(lambda row: geodesic((row['start_lat'], row['start_lng'])\n",
        "```"
      ],
      "metadata": {
        "id": "aZqfT6Iv8C_9"
      }
    },
    {
      "cell_type": "markdown",
      "source": [
        "## Initial Pipeline\n",
        "\n",
        "Before starting to answer questions about the data some cleaning must be done.\n",
        "\n",
        "The new features `distance` and `duration` make it easy to spot anamolies in the data. Through user error or sensor error a ride with no distance or duration could be recorded. These can be removed using the following:\n",
        "```python3\n",
        "df = (df[df['distance'] > 0])\n",
        "df = (df[df['duration'] > 0])\n",
        "```\n",
        "\n",
        "The Capital Bikeshare dataset provides an ambudance of data. In order to be able to perform the task of this project in a timely manner the dataset should be reduced to two weeks. The last two weeks of July were chosen to avoid holidays skewing data though further investigation could reveal valuable information.\n",
        "```python3\n",
        "ef = df[df['started_at'].between('2023-07-16', '2023-07-29')]\n",
        "ef.to_csv('Capital-Bikeshare-Dataset-cleaned.csv')\n"
      ],
      "metadata": {
        "id": "DmeyZCw9DKT1"
      }
    },
    {
      "cell_type": "code",
      "source": [],
      "metadata": {
        "id": "CqjNMPjwK_LQ"
      },
      "execution_count": null,
      "outputs": []
    },
    {
      "cell_type": "markdown",
      "source": [
        "##Exploratory Data Analysis"
      ],
      "metadata": {
        "id": "La_vlFb75-q-"
      }
    },
    {
      "cell_type": "code",
      "source": [
        "import pandas as pd\n",
        "import numpy as np\n",
        "import seaborn as sns\n",
        "import matplotlib.pyplot as plt\n",
        "\n",
        "df = pd.read_csv('https://raw.githubusercontent.com/joshualawrencemorgan/CS5265-Foundations-of-Machine-Learning/main/Capital_Bikeshare_cleaned.csv')\n",
        "\n",
        "df.info()"
      ],
      "metadata": {
        "id": "fdhIWcFbJtTt",
        "outputId": "0aa2fe39-7883-4933-da3b-b9c62861ba22",
        "colab": {
          "base_uri": "https://localhost:8080/"
        }
      },
      "execution_count": 8,
      "outputs": [
        {
          "output_type": "stream",
          "name": "stdout",
          "text": [
            "<class 'pandas.core.frame.DataFrame'>\n",
            "RangeIndex: 50000 entries, 0 to 49999\n",
            "Data columns (total 17 columns):\n",
            " #   Column              Non-Null Count  Dtype  \n",
            "---  ------              --------------  -----  \n",
            " 0   Unnamed: 0          50000 non-null  int64  \n",
            " 1   ride_id             50000 non-null  object \n",
            " 2   rideable_type       50000 non-null  object \n",
            " 3   started_at          50000 non-null  object \n",
            " 4   ended_at            50000 non-null  object \n",
            " 5   start_station_name  50000 non-null  object \n",
            " 6   start_station_id    50000 non-null  float64\n",
            " 7   end_station_name    50000 non-null  object \n",
            " 8   end_station_id      50000 non-null  float64\n",
            " 9   start_lat           50000 non-null  float64\n",
            " 10  start_lng           50000 non-null  float64\n",
            " 11  end_lat             50000 non-null  float64\n",
            " 12  end_lng             50000 non-null  float64\n",
            " 13  member_casual       50000 non-null  object \n",
            " 14  duration            50000 non-null  float64\n",
            " 15  day_of_week         50000 non-null  int64  \n",
            " 16  distance            50000 non-null  float64\n",
            "dtypes: float64(8), int64(2), object(7)\n",
            "memory usage: 6.5+ MB\n"
          ]
        }
      ]
    },
    {
      "cell_type": "markdown",
      "source": [
        "Question 1: Which group of riders, member or nonmembers, is more likely to travel a further distance?"
      ],
      "metadata": {
        "id": "lEspuhXY3gbe"
      }
    },
    {
      "cell_type": "code",
      "source": [
        "sns.barplot(x = 'day_of_week', y = 'distance', hue = 'member_casual', data = df)\n"
      ],
      "metadata": {
        "id": "HVJSLN23R7iP",
        "outputId": "6c49c611-4f2c-4ee1-dc83-c8eaffd00ab8",
        "colab": {
          "base_uri": "https://localhost:8080/",
          "height": 467
        }
      },
      "execution_count": 20,
      "outputs": [
        {
          "output_type": "execute_result",
          "data": {
            "text/plain": [
              "<Axes: xlabel='day_of_week', ylabel='distance'>"
            ]
          },
          "metadata": {},
          "execution_count": 20
        },
        {
          "output_type": "display_data",
          "data": {
            "text/plain": [
              "<Figure size 640x480 with 1 Axes>"
            ],
            "image/png": "[encoded data removed]"
          },
          "metadata": {}
        }
      ]
    },
    {
      "cell_type": "markdown",
      "source": [
        "Question 2: Which group of riders, member or nonmembers, is more likely to take a short trip (< 10 minutes)?"
      ],
      "metadata": {
        "id": "WBl_wbDx38cl"
      }
    },
    {
      "cell_type": "code",
      "source": [
        "sns.barplot(x = 'day_of_week', y = 'duration', hue = 'member_casual', data = df)\n"
      ],
      "metadata": {
        "id": "XC6ggkFVRY8q",
        "outputId": "206a7f5b-3db3-454c-8dd8-fc327722a47f",
        "colab": {
          "base_uri": "https://localhost:8080/",
          "height": 467
        }
      },
      "execution_count": 19,
      "outputs": [
        {
          "output_type": "execute_result",
          "data": {
            "text/plain": [
              "<Axes: xlabel='day_of_week', ylabel='duration'>"
            ]
          },
          "metadata": {},
          "execution_count": 19
        },
        {
          "output_type": "display_data",
          "data": {
            "text/plain": [
              "<Figure size 640x480 with 1 Axes>"
            ],
            "image/png": "[encoded data removed]"
          },
          "metadata": {}
        }
      ]
    },
    {
      "cell_type": "markdown",
      "source": [
        "Question 3: Are members more likely to use the bikes early in the morning than non-members?"
      ],
      "metadata": {
        "id": "TUDjpT_r5a9O"
      }
    },
    {
      "cell_type": "markdown",
      "source": [
        "Question 4: Which group of users is more likely to use electric bikes?"
      ],
      "metadata": {
        "id": "AMn-s5HL5lv4"
      }
    },
    {
      "cell_type": "markdown",
      "source": [
        "##Train test split\n",
        "based on the metadata (such as size\n",
        "and target class distribution) of your dataset, briefly outline your train/test percent split. Include the percentage for your golden holdout set if you plan to leave one out\n",
        "\n",
        "##Model fitting and evaluation\n",
        "list 1-3 assumptions you have about feature importance or how you anticipate your model’s performance will be"
      ],
      "metadata": {
        "id": "C8jXoF6iAP3I"
      }
    }
  ]
}