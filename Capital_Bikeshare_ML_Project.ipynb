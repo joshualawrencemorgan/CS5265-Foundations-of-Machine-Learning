{
  "nbformat": 4,
  "nbformat_minor": 0,
  "metadata": {
    "colab": {
      "provenance": [],
      "authorship_tag": "ABX9TyOwNiOh54OtUmgxxeMhaLCm",
      "include_colab_link": true
    },
    "kernelspec": {
      "name": "python3",
      "display_name": "Python 3"
    },
    "language_info": {
      "name": "python"
    }
  },
  "cells": [
    {
      "cell_type": "markdown",
      "metadata": {
        "id": "view-in-github",
        "colab_type": "text"
      },
      "source": [
        "<a href=\"https://colab.research.google.com/github/joshualawrencemorgan/CS5265-Foundations-of-Machine-Learning/blob/add_data/Capital_Bikeshare_ML_Project.ipynb\" target=\"_parent\"><img src=\"https://colab.research.google.com/assets/colab-badge.svg\" alt=\"Open In Colab\"/></a>"
      ]
    },
    {
      "cell_type": "markdown",
      "source": [
        "# Capital Bikeshare Membership Prediction and Rider Preference\n",
        "\n",
        "## Background\n",
        "Bikeshare programs in large cities offer a cost-effective and environmentally friendly mode of transportation for citizens and tourists. The bike docks that are integral to these programs can collect several data points about each ride. Research has been conducted by the [Department of Transportation](https://data.bts.gov/stories/s/Summary-of-Docked-Bikeshare-Trips-by-System-and-Ot/7fgy-2zkf/) on the total usage of bikeshare programs and the membership numbers of the program, but extensive research into the differences between casual and member riders has not been conducted. I want to use the data provided by the bikeshare program in Washington, D.C., Capital Bikeshare, to build a model that can predict, based on the characteristics of a ride, whether that ride was made by a member (a rider with an annual subscription) or a non-member.\n",
        "\n",
        "## Project Description\n",
        "This project seeks to learn more about the behaviors of bikeshare users by creating a membership prediction model for Capital Bikeshare (CaBi). The analysis is conducted on user trip data from [July 2023 rides](https://s3.amazonaws.com/capitalbikeshare-data/index.html) provided by Capital Bikeshare. I anticipate that the results of the model will highlight key differences in ridership behaviors such as time of ride, bike type, and duration of ride that could help CaBi better serve its customers and maximize profitability.\n",
        "\n",
        "## Performance Metrics\n",
        "\n",
        "Accuracy - Can the model correctly predict whether a ride was taken by a member or a casual rider? This will involve training against a dataset and comparing the model's determination against the data from Capital Bikeshare. Results will be recorded into a confusion matrix and classification accuracy will calculated using the function below.\n",
        "\n",
        "| Actual | Predicted |\n",
        "|---|---|\n",
        "| Positive | True Positive (TP) | False Positive (FP) |\n",
        "| Negative | False Negative (FN) | True Negative (TN) |\n",
        "\n",
        "$$\n",
        "Accuracy =\\frac{TruePositive+TrueNegative}{𝑇rue𝑃ositive+𝐹alse𝑃ositive+𝐹alse𝑁egative+𝑇rue𝑁egative}\n",
        "$$\n",
        "\n",
        "Characteristics - Which characteristics of a ride are more important for members? Using the model, is it possible to identify attributes of a ride that are more common among members? Knowledge of these attributes could help CaBi change its pricing model to provide the best service for its customers while also maximizing revenue."
      ],
      "metadata": {
        "id": "yfCO4H0EKYXQ"
      }
    },
    {
      "cell_type": "markdown",
      "source": [
        "## Feature Engineering\n",
        "\n",
        "The data provided by Capital Bikeshare requires a serious amount of cleaning and feature engineering to provide a more holistic understanding of the ride data. Here I propose 3 features to be engineered.\n",
        "\n",
        "### Duration Feature\n",
        "Using pandas to format the current features 'started_at' and 'ended_at' in to a datetime will allow for the creation of a duration feature that will provide the more context to each ride.\n",
        "```python\n",
        "df['started_at'] = pd.to_datetime(df['started_at'])\n",
        "df['ended_at'] = pd.to_datetime(df['ended_at'])\n",
        "df['duration'] = (df['ended_at'] - df['started_at']).dt.total_seconds()\n",
        "```\n",
        "\n",
        "### Day of the week Feature\n",
        "Extrapolating what day of the week the ride was on will help our machine learning process identify patterns across multiple weeks. 'day_of_week' is stored as an enum with sunday being 0 and saturday being 6.\n",
        "```python3\n",
        "df['day_of_week'] = df['started_at'].dt.dayofweek\n",
        "```\n",
        "\n",
        "### Distance Feature\n",
        "Determining the actual path that bikes took would require extremely expensive GPS tracker to be installed and maintained in each bike. This feature seeks to provide a suitable alternative by calculating the geographical distance between where the bike was checked out and where the bike started. This will provide even more context to each ride and help provide more insight into the behaviour of riders.\n",
        "\n",
        "```python3\n",
        "df['distance'] = df.apply(lambda row: geodesic((row['start_lat'], row['start_lng'])\n",
        "```"
      ],
      "metadata": {
        "id": "aZqfT6Iv8C_9"
      }
    },
    {
      "cell_type": "markdown",
      "source": [
        "## Initial Pipeline\n",
        "\n",
        "Before starting to answer questions about the data some cleaning must be done.\n",
        "\n",
        "The new features `distance` and `duration` make it easy to spot anamolies in the data. Through user error or sensor error a ride with no distance or duration could be recorded. These can be removed using the following:\n",
        "```python3\n",
        "df = (df[df['distance'] > 0])\n",
        "df = (df[df['duration'] > 0])\n",
        "```\n",
        "\n",
        "The Capital Bikeshare dataset provides an ambudance of data. In order to be able to perform the task of this project in a timely manner the dataset should be reduced to two weeks. The last two weeks of July were chosen to avoid holidays skewing data though further investigation could reveal valuable information.\n",
        "```python3\n",
        "df = df[df['started_at'].between('2023-07-16', '2023-07-29')]\n",
        "df.to_csv('Capital-Bikeshare-Dataset-cleaned.csv')\n"
      ],
      "metadata": {
        "id": "DmeyZCw9DKT1"
      }
    },
    {
      "cell_type": "markdown",
      "source": [
        "##Exploratory Data Analysis"
      ],
      "metadata": {
        "id": "La_vlFb75-q-"
      }
    },
    {
      "cell_type": "code",
      "source": [
        "import pandas as pd\n",
        "import numpy as np\n",
        "import seaborn as sns\n",
        "import matplotlib.pyplot as plt\n",
        "\n",
        "df = pd.read_csv('https://raw.githubusercontent.com/joshualawrencemorgan/CS5265-Foundations-of-Machine-Learning/main/Capital_Bikeshare_cleaned.csv')\n",
        "\n",
        "df.describe()"
      ],
      "metadata": {
        "id": "fdhIWcFbJtTt",
        "outputId": "1da91e0d-6351-4010-f9e3-c34b4a422b0b",
        "colab": {
          "base_uri": "https://localhost:8080/",
          "height": 300
        }
      },
      "execution_count": 67,
      "outputs": [
        {
          "output_type": "execute_result",
          "data": {
            "text/plain": [
              "          Unnamed: 0  start_station_id  end_station_id     start_lat  \\\n",
              "count   50000.000000      50000.000000    50000.000000  50000.000000   \n",
              "mean   243567.058140      31370.425520    31373.441680     38.902265   \n",
              "std    137734.530487        279.694166      281.204661      0.025496   \n",
              "min         2.000000      30200.000000    30200.000000     38.782633   \n",
              "25%    113506.500000      31211.000000    31214.000000     38.890496   \n",
              "50%    258269.000000      31280.000000    31280.000000     38.902674   \n",
              "75%    360902.000000      31609.000000    31610.000000     38.912659   \n",
              "max    466415.000000      33200.000000    33200.000000     39.125828   \n",
              "\n",
              "          start_lng       end_lat       end_lng       duration   day_of_week  \\\n",
              "count  50000.000000  50000.000000  50000.000000   50000.000000  50000.000000   \n",
              "mean     -77.032877     38.901190    -77.032449    1102.845060      2.871340   \n",
              "std        0.034616      0.025306      0.034304    3410.417946      1.969869   \n",
              "min      -77.368473     38.782633    -77.368416       1.000000      0.000000   \n",
              "25%      -77.044710     38.890461    -77.044780     389.000000      1.000000   \n",
              "50%      -77.031737     38.902000    -77.031617     657.000000      3.000000   \n",
              "75%      -77.013769     38.911268    -77.013500    1121.000000      4.000000   \n",
              "max      -76.844604     39.125828    -76.825535  421859.000000      6.000000   \n",
              "\n",
              "           distance  \n",
              "count  50000.000000  \n",
              "mean       1.178166  \n",
              "std        0.892747  \n",
              "min        0.000185  \n",
              "25%        0.585060  \n",
              "50%        0.954958  \n",
              "75%        1.523398  \n",
              "max       18.536506  "
            ],
            "text/html": [
              "\n",
              "  <div id=\"df-a55335e5-2067-44a6-9ea7-a23b2a20f776\" class=\"colab-df-container\">\n",
              "    <div>\n",
              "<style scoped>\n",
              "    .dataframe tbody tr th:only-of-type {\n",
              "        vertical-align: middle;\n",
              "    }\n",
              "\n",
              "    .dataframe tbody tr th {\n",
              "        vertical-align: top;\n",
              "    }\n",
              "\n",
              "    .dataframe thead th {\n",
              "        text-align: right;\n",
              "    }\n",
              "</style>\n",
              "<table border=\"1\" class=\"dataframe\">\n",
              "  <thead>\n",
              "    <tr style=\"text-align: right;\">\n",
              "      <th></th>\n",
              "      <th>Unnamed: 0</th>\n",
              "      <th>start_station_id</th>\n",
              "      <th>end_station_id</th>\n",
              "      <th>start_lat</th>\n",
              "      <th>start_lng</th>\n",
              "      <th>end_lat</th>\n",
              "      <th>end_lng</th>\n",
              "      <th>duration</th>\n",
              "      <th>day_of_week</th>\n",
              "      <th>distance</th>\n",
              "    </tr>\n",
              "  </thead>\n",
              "  <tbody>\n",
              "    <tr>\n",
              "      <th>count</th>\n",
              "      <td>50000.000000</td>\n",
              "      <td>50000.000000</td>\n",
              "      <td>50000.000000</td>\n",
              "      <td>50000.000000</td>\n",
              "      <td>50000.000000</td>\n",
              "      <td>50000.000000</td>\n",
              "      <td>50000.000000</td>\n",
              "      <td>50000.000000</td>\n",
              "      <td>50000.000000</td>\n",
              "      <td>50000.000000</td>\n",
              "    </tr>\n",
              "    <tr>\n",
              "      <th>mean</th>\n",
              "      <td>243567.058140</td>\n",
              "      <td>31370.425520</td>\n",
              "      <td>31373.441680</td>\n",
              "      <td>38.902265</td>\n",
              "      <td>-77.032877</td>\n",
              "      <td>38.901190</td>\n",
              "      <td>-77.032449</td>\n",
              "      <td>1102.845060</td>\n",
              "      <td>2.871340</td>\n",
              "      <td>1.178166</td>\n",
              "    </tr>\n",
              "    <tr>\n",
              "      <th>std</th>\n",
              "      <td>137734.530487</td>\n",
              "      <td>279.694166</td>\n",
              "      <td>281.204661</td>\n",
              "      <td>0.025496</td>\n",
              "      <td>0.034616</td>\n",
              "      <td>0.025306</td>\n",
              "      <td>0.034304</td>\n",
              "      <td>3410.417946</td>\n",
              "      <td>1.969869</td>\n",
              "      <td>0.892747</td>\n",
              "    </tr>\n",
              "    <tr>\n",
              "      <th>min</th>\n",
              "      <td>2.000000</td>\n",
              "      <td>30200.000000</td>\n",
              "      <td>30200.000000</td>\n",
              "      <td>38.782633</td>\n",
              "      <td>-77.368473</td>\n",
              "      <td>38.782633</td>\n",
              "      <td>-77.368416</td>\n",
              "      <td>1.000000</td>\n",
              "      <td>0.000000</td>\n",
              "      <td>0.000185</td>\n",
              "    </tr>\n",
              "    <tr>\n",
              "      <th>25%</th>\n",
              "      <td>113506.500000</td>\n",
              "      <td>31211.000000</td>\n",
              "      <td>31214.000000</td>\n",
              "      <td>38.890496</td>\n",
              "      <td>-77.044710</td>\n",
              "      <td>38.890461</td>\n",
              "      <td>-77.044780</td>\n",
              "      <td>389.000000</td>\n",
              "      <td>1.000000</td>\n",
              "      <td>0.585060</td>\n",
              "    </tr>\n",
              "    <tr>\n",
              "      <th>50%</th>\n",
              "      <td>258269.000000</td>\n",
              "      <td>31280.000000</td>\n",
              "      <td>31280.000000</td>\n",
              "      <td>38.902674</td>\n",
              "      <td>-77.031737</td>\n",
              "      <td>38.902000</td>\n",
              "      <td>-77.031617</td>\n",
              "      <td>657.000000</td>\n",
              "      <td>3.000000</td>\n",
              "      <td>0.954958</td>\n",
              "    </tr>\n",
              "    <tr>\n",
              "      <th>75%</th>\n",
              "      <td>360902.000000</td>\n",
              "      <td>31609.000000</td>\n",
              "      <td>31610.000000</td>\n",
              "      <td>38.912659</td>\n",
              "      <td>-77.013769</td>\n",
              "      <td>38.911268</td>\n",
              "      <td>-77.013500</td>\n",
              "      <td>1121.000000</td>\n",
              "      <td>4.000000</td>\n",
              "      <td>1.523398</td>\n",
              "    </tr>\n",
              "    <tr>\n",
              "      <th>max</th>\n",
              "      <td>466415.000000</td>\n",
              "      <td>33200.000000</td>\n",
              "      <td>33200.000000</td>\n",
              "      <td>39.125828</td>\n",
              "      <td>-76.844604</td>\n",
              "      <td>39.125828</td>\n",
              "      <td>-76.825535</td>\n",
              "      <td>421859.000000</td>\n",
              "      <td>6.000000</td>\n",
              "      <td>18.536506</td>\n",
              "    </tr>\n",
              "  </tbody>\n",
              "</table>\n",
              "</div>\n",
              "    <div class=\"colab-df-buttons\">\n",
              "\n",
              "  <div class=\"colab-df-container\">\n",
              "    <button class=\"colab-df-convert\" onclick=\"convertToInteractive('df-a55335e5-2067-44a6-9ea7-a23b2a20f776')\"\n",
              "            title=\"Convert this dataframe to an interactive table.\"\n",
              "            style=\"display:none;\">\n",
              "\n",
              "  <svg xmlns=\"http://www.w3.org/2000/svg\" height=\"24px\" viewBox=\"0 -960 960 960\">\n",
              "    <path d=\"M120-120v-720h720v720H120Zm60-500h600v-160H180v160Zm220 220h160v-160H400v160Zm0 220h160v-160H400v160ZM180-400h160v-160H180v160Zm440 0h160v-160H620v160ZM180-180h160v-160H180v160Zm440 0h160v-160H620v160Z\"/>\n",
              "  </svg>\n",
              "    </button>\n",
              "\n",
              "  <style>\n",
              "    .colab-df-container {\n",
              "      display:flex;\n",
              "      gap: 12px;\n",
              "    }\n",
              "\n",
              "    .colab-df-convert {\n",
              "      background-color: #E8F0FE;\n",
              "      border: none;\n",
              "      border-radius: 50%;\n",
              "      cursor: pointer;\n",
              "      display: none;\n",
              "      fill: #1967D2;\n",
              "      height: 32px;\n",
              "      padding: 0 0 0 0;\n",
              "      width: 32px;\n",
              "    }\n",
              "\n",
              "    .colab-df-convert:hover {\n",
              "      background-color: #E2EBFA;\n",
              "      box-shadow: 0px 1px 2px rgba(60, 64, 67, 0.3), 0px 1px 3px 1px rgba(60, 64, 67, 0.15);\n",
              "      fill: #174EA6;\n",
              "    }\n",
              "\n",
              "    .colab-df-buttons div {\n",
              "      margin-bottom: 4px;\n",
              "    }\n",
              "\n",
              "    [theme=dark] .colab-df-convert {\n",
              "      background-color: #3B4455;\n",
              "      fill: #D2E3FC;\n",
              "    }\n",
              "\n",
              "    [theme=dark] .colab-df-convert:hover {\n",
              "      background-color: #434B5C;\n",
              "      box-shadow: 0px 1px 3px 1px rgba(0, 0, 0, 0.15);\n",
              "      filter: drop-shadow(0px 1px 2px rgba(0, 0, 0, 0.3));\n",
              "      fill: #FFFFFF;\n",
              "    }\n",
              "  </style>\n",
              "\n",
              "    <script>\n",
              "      const buttonEl =\n",
              "        document.querySelector('#df-a55335e5-2067-44a6-9ea7-a23b2a20f776 button.colab-df-convert');\n",
              "      buttonEl.style.display =\n",
              "        google.colab.kernel.accessAllowed ? 'block' : 'none';\n",
              "\n",
              "      async function convertToInteractive(key) {\n",
              "        const element = document.querySelector('#df-a55335e5-2067-44a6-9ea7-a23b2a20f776');\n",
              "        const dataTable =\n",
              "          await google.colab.kernel.invokeFunction('convertToInteractive',\n",
              "                                                    [key], {});\n",
              "        if (!dataTable) return;\n",
              "\n",
              "        const docLinkHtml = 'Like what you see? Visit the ' +\n",
              "          '<a target=\"_blank\" href=https://colab.research.google.com/notebooks/data_table.ipynb>data table notebook</a>'\n",
              "          + ' to learn more about interactive tables.';\n",
              "        element.innerHTML = '';\n",
              "        dataTable['output_type'] = 'display_data';\n",
              "        await google.colab.output.renderOutput(dataTable, element);\n",
              "        const docLink = document.createElement('div');\n",
              "        docLink.innerHTML = docLinkHtml;\n",
              "        element.appendChild(docLink);\n",
              "      }\n",
              "    </script>\n",
              "  </div>\n",
              "\n",
              "\n",
              "<div id=\"df-6f6a82a2-dd60-4439-985b-4e82a68381e6\">\n",
              "  <button class=\"colab-df-quickchart\" onclick=\"quickchart('df-6f6a82a2-dd60-4439-985b-4e82a68381e6')\"\n",
              "            title=\"Suggest charts.\"\n",
              "            style=\"display:none;\">\n",
              "\n",
              "<svg xmlns=\"http://www.w3.org/2000/svg\" height=\"24px\"viewBox=\"0 0 24 24\"\n",
              "     width=\"24px\">\n",
              "    <g>\n",
              "        <path d=\"M19 3H5c-1.1 0-2 .9-2 2v14c0 1.1.9 2 2 2h14c1.1 0 2-.9 2-2V5c0-1.1-.9-2-2-2zM9 17H7v-7h2v7zm4 0h-2V7h2v10zm4 0h-2v-4h2v4z\"/>\n",
              "    </g>\n",
              "</svg>\n",
              "  </button>\n",
              "\n",
              "<style>\n",
              "  .colab-df-quickchart {\n",
              "      --bg-color: #E8F0FE;\n",
              "      --fill-color: #1967D2;\n",
              "      --hover-bg-color: #E2EBFA;\n",
              "      --hover-fill-color: #174EA6;\n",
              "      --disabled-fill-color: #AAA;\n",
              "      --disabled-bg-color: #DDD;\n",
              "  }\n",
              "\n",
              "  [theme=dark] .colab-df-quickchart {\n",
              "      --bg-color: #3B4455;\n",
              "      --fill-color: #D2E3FC;\n",
              "      --hover-bg-color: #434B5C;\n",
              "      --hover-fill-color: #FFFFFF;\n",
              "      --disabled-bg-color: #3B4455;\n",
              "      --disabled-fill-color: #666;\n",
              "  }\n",
              "\n",
              "  .colab-df-quickchart {\n",
              "    background-color: var(--bg-color);\n",
              "    border: none;\n",
              "    border-radius: 50%;\n",
              "    cursor: pointer;\n",
              "    display: none;\n",
              "    fill: var(--fill-color);\n",
              "    height: 32px;\n",
              "    padding: 0;\n",
              "    width: 32px;\n",
              "  }\n",
              "\n",
              "  .colab-df-quickchart:hover {\n",
              "    background-color: var(--hover-bg-color);\n",
              "    box-shadow: 0 1px 2px rgba(60, 64, 67, 0.3), 0 1px 3px 1px rgba(60, 64, 67, 0.15);\n",
              "    fill: var(--button-hover-fill-color);\n",
              "  }\n",
              "\n",
              "  .colab-df-quickchart-complete:disabled,\n",
              "  .colab-df-quickchart-complete:disabled:hover {\n",
              "    background-color: var(--disabled-bg-color);\n",
              "    fill: var(--disabled-fill-color);\n",
              "    box-shadow: none;\n",
              "  }\n",
              "\n",
              "  .colab-df-spinner {\n",
              "    border: 2px solid var(--fill-color);\n",
              "    border-color: transparent;\n",
              "    border-bottom-color: var(--fill-color);\n",
              "    animation:\n",
              "      spin 1s steps(1) infinite;\n",
              "  }\n",
              "\n",
              "  @keyframes spin {\n",
              "    0% {\n",
              "      border-color: transparent;\n",
              "      border-bottom-color: var(--fill-color);\n",
              "      border-left-color: var(--fill-color);\n",
              "    }\n",
              "    20% {\n",
              "      border-color: transparent;\n",
              "      border-left-color: var(--fill-color);\n",
              "      border-top-color: var(--fill-color);\n",
              "    }\n",
              "    30% {\n",
              "      border-color: transparent;\n",
              "      border-left-color: var(--fill-color);\n",
              "      border-top-color: var(--fill-color);\n",
              "      border-right-color: var(--fill-color);\n",
              "    }\n",
              "    40% {\n",
              "      border-color: transparent;\n",
              "      border-right-color: var(--fill-color);\n",
              "      border-top-color: var(--fill-color);\n",
              "    }\n",
              "    60% {\n",
              "      border-color: transparent;\n",
              "      border-right-color: var(--fill-color);\n",
              "    }\n",
              "    80% {\n",
              "      border-color: transparent;\n",
              "      border-right-color: var(--fill-color);\n",
              "      border-bottom-color: var(--fill-color);\n",
              "    }\n",
              "    90% {\n",
              "      border-color: transparent;\n",
              "      border-bottom-color: var(--fill-color);\n",
              "    }\n",
              "  }\n",
              "</style>\n",
              "\n",
              "  <script>\n",
              "    async function quickchart(key) {\n",
              "      const quickchartButtonEl =\n",
              "        document.querySelector('#' + key + ' button');\n",
              "      quickchartButtonEl.disabled = true;  // To prevent multiple clicks.\n",
              "      quickchartButtonEl.classList.add('colab-df-spinner');\n",
              "      try {\n",
              "        const charts = await google.colab.kernel.invokeFunction(\n",
              "            'suggestCharts', [key], {});\n",
              "      } catch (error) {\n",
              "        console.error('Error during call to suggestCharts:', error);\n",
              "      }\n",
              "      quickchartButtonEl.classList.remove('colab-df-spinner');\n",
              "      quickchartButtonEl.classList.add('colab-df-quickchart-complete');\n",
              "    }\n",
              "    (() => {\n",
              "      let quickchartButtonEl =\n",
              "        document.querySelector('#df-6f6a82a2-dd60-4439-985b-4e82a68381e6 button');\n",
              "      quickchartButtonEl.style.display =\n",
              "        google.colab.kernel.accessAllowed ? 'block' : 'none';\n",
              "    })();\n",
              "  </script>\n",
              "</div>\n",
              "    </div>\n",
              "  </div>\n"
            ]
          },
          "metadata": {},
          "execution_count": 67
        }
      ]
    },
    {
      "cell_type": "markdown",
      "source": [
        "Question 1: What proportion of rides are by members?"
      ],
      "metadata": {
        "id": "UdsNHER2y-W1"
      }
    },
    {
      "cell_type": "code",
      "source": [
        "ride_counts = df['member_casual'].value_counts()\n",
        "plt.pie(ride_counts, labels=ride_counts.index)"
      ],
      "metadata": {
        "id": "GJ1HAdqDzFQO",
        "outputId": "163012f7-4690-471c-d56b-57a7b10c4352",
        "colab": {
          "base_uri": "https://localhost:8080/",
          "height": 475
        }
      },
      "execution_count": 59,
      "outputs": [
        {
          "output_type": "execute_result",
          "data": {
            "text/plain": [
              "([<matplotlib.patches.Wedge at 0x79d27693b730>,\n",
              "  <matplotlib.patches.Wedge at 0x79d27693b610>],\n",
              " [Text(-0.326044941332956, 1.0505687489313535, 'member'),\n",
              "  Text(0.32604484297160924, -1.0505687794578795, 'casual')])"
            ]
          },
          "metadata": {},
          "execution_count": 59
        },
        {
          "output_type": "display_data",
          "data": {
            "text/plain": [
              "<Figure size 640x480 with 1 Axes>"
            ],
            "image/png": "[encoded data removed]"
          },
          "metadata": {}
        }
      ]
    },
    {
      "cell_type": "markdown",
      "source": [
        "Question 2: Which group of users is more likely to use electric bikes?"
      ],
      "metadata": {
        "id": "AMn-s5HL5lv4"
      }
    },
    {
      "cell_type": "code",
      "source": [
        "type_counts = df['rideable_type'].value_counts()\n",
        "plt.pie(type_counts, labels=type_counts.index)"
      ],
      "metadata": {
        "id": "2w1jMjDvz1P5",
        "outputId": "b19a87cc-e9c0-418a-ec74-035ae4615bde",
        "colab": {
          "base_uri": "https://localhost:8080/",
          "height": 510
        }
      },
      "execution_count": 68,
      "outputs": [
        {
          "output_type": "execute_result",
          "data": {
            "text/plain": [
              "([<matplotlib.patches.Wedge at 0x79d276705450>,\n",
              "  <matplotlib.patches.Wedge at 0x79d276705570>,\n",
              "  <matplotlib.patches.Wedge at 0x79d276704b80>],\n",
              " [Text(-0.8074262203634074, 0.7470360758823248, 'classic_bike'),\n",
              "  Text(0.720156735041416, -0.8314891923377525, 'electric_bike'),\n",
              "  Text(1.0932962238374142, -0.12125744077313745, 'docked_bike')])"
            ]
          },
          "metadata": {},
          "execution_count": 68
        },
        {
          "output_type": "display_data",
          "data": {
            "text/plain": [
              "<Figure size 640x480 with 1 Axes>"
            ],
            "image/png": "[encoded data removed]"
          },
          "metadata": {}
        }
      ]
    },
    {
      "cell_type": "markdown",
      "source": [
        "Question 3: Which group of riders, member or nonmembers, is more likely to travel a further distance?"
      ],
      "metadata": {
        "id": "lEspuhXY3gbe"
      }
    },
    {
      "cell_type": "code",
      "source": [
        "sns.barplot(x = 'day_of_week', y = 'distance', hue = 'member_casual', data = df)\n"
      ],
      "metadata": {
        "id": "HVJSLN23R7iP",
        "outputId": "6c49c611-4f2c-4ee1-dc83-c8eaffd00ab8",
        "colab": {
          "base_uri": "https://localhost:8080/",
          "height": 467
        }
      },
      "execution_count": null,
      "outputs": [
        {
          "output_type": "execute_result",
          "data": {
            "text/plain": [
              "<Axes: xlabel='day_of_week', ylabel='distance'>"
            ]
          },
          "metadata": {},
          "execution_count": 20
        },
        {
          "output_type": "display_data",
          "data": {
            "text/plain": [
              "<Figure size 640x480 with 1 Axes>"
            ],
            "image/png": "[encoded data removed]"
          },
          "metadata": {}
        }
      ]
    },
    {
      "cell_type": "markdown",
      "source": [
        "Question 2: Which group of riders, member or nonmembers, is more likely to take a short trip (< 10 minutes)?"
      ],
      "metadata": {
        "id": "WBl_wbDx38cl"
      }
    },
    {
      "cell_type": "code",
      "source": [
        "sns.barplot(x = 'day_of_week', y = 'duration', hue = 'member_casual', data = df)\n"
      ],
      "metadata": {
        "id": "XC6ggkFVRY8q",
        "outputId": "206a7f5b-3db3-454c-8dd8-fc327722a47f",
        "colab": {
          "base_uri": "https://localhost:8080/",
          "height": 467
        }
      },
      "execution_count": null,
      "outputs": [
        {
          "output_type": "execute_result",
          "data": {
            "text/plain": [
              "<Axes: xlabel='day_of_week', ylabel='duration'>"
            ]
          },
          "metadata": {},
          "execution_count": 19
        },
        {
          "output_type": "display_data",
          "data": {
            "text/plain": [
              "<Figure size 640x480 with 1 Axes>"
            ],
            "image/png": "[encoded data removed]"
          },
          "metadata": {}
        }
      ]
    },
    {
      "cell_type": "markdown",
      "source": [
        "Question 3: Are members more likely to use the bikes early in the morning than non-members?"
      ],
      "metadata": {
        "id": "TUDjpT_r5a9O"
      }
    },
    {
      "cell_type": "code",
      "source": [
        "df['started_at'] = pd.to_datetime(df['started_at'])\n",
        "df['duration'] = pd.to_datetime(df['duration'], unit='s')\n",
        "\n",
        "some = df.sample(1000)\n",
        "some['hour'] = some['started_at'].dt.hour\n",
        "some.groupby('hour')['member_casual'].count()\n",
        "sns.countplot(x='hour', hue='member_casual', data=some)"
      ],
      "metadata": {
        "id": "2VZ2SxFesYHq",
        "outputId": "f084b01d-c067-4017-b9c3-543adc70b6ff",
        "colab": {
          "base_uri": "https://localhost:8080/",
          "height": 466
        }
      },
      "execution_count": 57,
      "outputs": [
        {
          "output_type": "execute_result",
          "data": {
            "text/plain": [
              "<Axes: xlabel='hour', ylabel='count'>"
            ]
          },
          "metadata": {},
          "execution_count": 57
        },
        {
          "output_type": "display_data",
          "data": {
            "text/plain": [
              "<Figure size 640x480 with 1 Axes>"
            ],
            "image/png": "[encoded data removed]"
          },
          "metadata": {}
        }
      ]
    },
    {
      "cell_type": "markdown",
      "source": [
        "##Train test split\n",
        "based on the metadata (such as size\n",
        "and target class distribution) of your dataset, briefly outline your train/test percent split. Include the percentage for your golden holdout set if you plan to leave one out\n",
        "\n",
        "##Model fitting and evaluation\n",
        "list 1-3 assumptions you have about feature importance or how you anticipate your model’s performance will be"
      ],
      "metadata": {
        "id": "C8jXoF6iAP3I"
      }
    }
  ]
}