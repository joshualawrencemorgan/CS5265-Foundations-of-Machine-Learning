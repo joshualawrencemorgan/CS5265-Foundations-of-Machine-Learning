{
  "nbformat": 4,
  "nbformat_minor": 0,
  "metadata": {
    "colab": {
      "provenance": [],
      "authorship_tag": "ABX9TyMEQZiZlS1C2k31kUXdh6iz",
      "include_colab_link": true
    },
    "kernelspec": {
      "name": "python3",
      "display_name": "Python 3"
    },
    "language_info": {
      "name": "python"
    }
  },
  "cells": [
    {
      "cell_type": "markdown",
      "metadata": {
        "id": "view-in-github",
        "colab_type": "text"
      },
      "source": [
        "<a href=\"https://colab.research.google.com/github/joshualawrencemorgan/CS5265-Foundations-of-Machine-Learning/blob/main/Assignment1.ipynb\" target=\"_parent\"><img src=\"https://colab.research.google.com/assets/colab-badge.svg\" alt=\"Open In Colab\"/></a>"
      ]
    },
    {
      "cell_type": "markdown",
      "source": [
        "# Assignment 1"
      ],
      "metadata": {
        "id": "5BRWvycBKgG7"
      }
    },
    {
      "cell_type": "markdown",
      "source": [
        "Describe your proposed project in a text cell. Include the following sections:\n",
        "- Background\n",
        "- Project Description\n",
        "- Performance Metric\n"
      ],
      "metadata": {
        "id": "yfCO4H0EKYXQ"
      }
    }
  ]
}