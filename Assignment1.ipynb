{
  "nbformat": 4,
  "nbformat_minor": 0,
  "metadata": {
    "colab": {
      "provenance": [],
      "authorship_tag": "ABX9TyMyAPrTOrYMLePqtrqkcBGZ",
      "include_colab_link": true
    },
    "kernelspec": {
      "name": "python3",
      "display_name": "Python 3"
    },
    "language_info": {
      "name": "python"
    }
  },
  "cells": [
    {
      "cell_type": "markdown",
      "metadata": {
        "id": "view-in-github",
        "colab_type": "text"
      },
      "source": [
        "<a href=\"https://colab.research.google.com/github/joshualawrencemorgan/CS5265-Foundations-of-Machine-Learning/blob/add_data/Assignment1.ipynb\" target=\"_parent\"><img src=\"https://colab.research.google.com/assets/colab-badge.svg\" alt=\"Open In Colab\"/></a>"
      ]
    },
    {
      "cell_type": "markdown",
      "source": [
        "# Assignment 1"
      ],
      "metadata": {
        "id": "5BRWvycBKgG7"
      }
    },
    {
      "cell_type": "markdown",
      "source": [
        "# Capital Bikeshare Membership Prediction and Rider Preference\n",
        "\n",
        "## Background\n",
        "Bikeshare programs in large cities offer a cost-effective and environmentally friendly mode of transportation for citizens and tourists. The bike docks that are integral to these programs can collect several data points about each ride. Research has been conducted by the [Department of Transportation](https://data.bts.gov/stories/s/Summary-of-Docked-Bikeshare-Trips-by-System-and-Ot/7fgy-2zkf/) on the total usage of bikeshare programs and the membership numbers of the program, but extensive research into the differences between casual and member riders has not been conducted. I want to use the data provided by the bikeshare program in Washington, D.C., Capital Bikeshare, to build a model that can predict, based on the characteristics of a ride, whether that ride was made by a member (a rider with an annual subscription) or a non-member.\n",
        "\n",
        "## Project Description\n",
        "This project seeks to learn more about the behaviors of bikeshare users by creating a membership prediction model for Capital Bikeshare (CaBi). The analysis is conducted on user trip data from [August 2023 rides](https://s3.amazonaws.com/capitalbikeshare-data/index.html) provided by Capital Bikeshare. I anticipate that the results of the model will highlight key differences in ridership behaviors such as time of ride, bike type, and duration of ride that could help CaBi better serve its customers and maximize profitability.\n",
        "\n",
        "## Performance Metrics\n",
        "\n",
        "Accuracy - Can the model correctly predict whether a ride was taken by a member or a casual rider? This will involve training against a dataset and comparing the model's determination against the data from Capital Bikeshare. Results will be recorded into a confusion matrix and classification accuracy will calculated using the function below.\n",
        "\n",
        "| Actual | Predicted |\n",
        "|---|---|\n",
        "| Positive | True Positive (TP) | False Positive (FP) |\n",
        "| Negative | False Negative (FN) | True Negative (TN) |\n",
        "\n",
        "$\n",
        "Accuracy =\\frac{TruePositive+TrueNegative}{𝑇rue𝑃ositive+𝐹alse𝑃ositive+𝐹alse𝑁egative+𝑇rue𝑁egative}\n",
        "$\n",
        "\n",
        "Characteristics - Which characteristics of a ride are more important for members? Using the model, is it possible to identify attributes of a ride that are more common among members? Knowledge of these attributes could help CaBi change its pricing model to provide the best service for its customers while also maximizing revenue."
      ],
      "metadata": {
        "id": "yfCO4H0EKYXQ"
      }
    },
    {
      "cell_type": "markdown",
      "source": [
        "Data Cleaning\n",
        "```python3\n",
        "df = df.dropna()\n",
        "```\n",
        "\n",
        "Format datetime and create duration\n",
        "```python\n",
        "df['started_at'] = pd.to_datetime(df['started_at'])\n",
        "df['ended_at'] = pd.to_datetime(df['ended_at'])\n",
        "df['duration'] = (df['ended_at'] - df['started_at']).dt.total_seconds()\n",
        "```\n",
        "Add day of week\n",
        "```python3\n",
        "df['day_of_week'] = df['started_at'].dt.dayofweek\n",
        "```\n",
        "\n",
        "Create distance column\n",
        "```python\n",
        "df['distance'] = df.apply(lambda row: geodesic((row['start_lat'], row['start_lng']),(row['end_lat'], row['end_lng'])).miles, axis=1)\n",
        "```\n",
        "\n",
        "Remove 0 distance and 0 duration rides\n",
        "```python3\n",
        "df = (df[df['distance'] > 0])\n",
        "df = (df[df['duration'] > 0])\n",
        "```\n",
        "\n",
        "To limit the data to a couple of weeks use:\n",
        "```python3\n",
        "ef = df[df['started_at'].between('2023-07-16', '2023-07-29')]\n",
        "ef.to_csv('cabi_2023-07-16_2023-07-29')\n",
        "```"
      ],
      "metadata": {
        "id": "d6f7FTRxsCmX"
      }
    },
    {
      "cell_type": "markdown",
      "source": [
        "Question 1: Which group of riders, member or nonmembers, is more likely to travel a further distance?"
      ],
      "metadata": {
        "id": "lEspuhXY3gbe"
      }
    },
    {
      "cell_type": "markdown",
      "source": [
        "Question 2: Which group of riders, member or nonmembers, is more likely to take a short trip (< 10 minutes)?"
      ],
      "metadata": {
        "id": "WBl_wbDx38cl"
      }
    },
    {
      "cell_type": "markdown",
      "source": [
        "Question 3: Are members more likely to use the bikes early in the morning than non-members?"
      ],
      "metadata": {
        "id": "TUDjpT_r5a9O"
      }
    },
    {
      "cell_type": "markdown",
      "source": [
        "Question 4: Which group of users is more likely to use electric bikes?"
      ],
      "metadata": {
        "id": "AMn-s5HL5lv4"
      }
    }
  ]
}